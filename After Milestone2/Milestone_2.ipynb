{
 "cells": [
  {
   "cell_type": "code",
   "execution_count": 1,
   "id": "88cb80bd",
   "metadata": {},
   "outputs": [],
   "source": [
    "import yaml\n",
    "from yaml.loader import SafeLoader\n",
    "from datetime import datetime\n",
    "import time\n",
    "import pandas as pd\n",
    "import copy\n",
    "import threading"
   ]
  },
  {
   "cell_type": "code",
   "execution_count": 23,
   "id": "ca2a06bc",
   "metadata": {},
   "outputs": [
    {
     "name": "stdout",
     "output_type": "stream",
     "text": [
      "{'M2B_Workflow': {'Type': 'Flow', 'Execution': 'Sequential', 'Activities': {'TaskA': {'Type': 'Task', 'Function': 'DataLoad', 'Inputs': {'Filename': 'Milestone2B_DataInput1.csv'}, 'Outputs': ['DataTable', 'NoOfDefects']}, 'FlowA': {'Type': 'Flow', 'Execution': 'Concurrent', 'Activities': {'TaskB': {'Type': 'Task', 'Function': 'TimeFunction', 'Condition': '$(M2B_Workflow.TaskA.NoOfDefects) > 0', 'Inputs': {'FunctionInput': 'TaskB_Input', 'ExecutionTime': '16'}}, 'TaskC': {'Type': 'Task', 'Function': 'DataLoad', 'Inputs': {'Filename': 'Milestone2B_DataInput1.csv'}, 'Outputs': ['DataTable', 'NoOfDefects']}, 'TaskD': {'Type': 'Task', 'Function': 'TimeFunction', 'Condition': '$(M2B_Workflow.TaskA.NoOfDefects) < 10', 'Inputs': {'FunctionInput': 'TaskD_Input', 'ExecutionTime': '5'}}, 'FlowB': {'Type': 'Flow', 'Execution': 'Sequential', 'Activities': {'TaskE': {'Type': 'Task', 'Function': 'DataLoad', 'Inputs': {'Filename': 'Milestone2B_DataInput2.csv'}, 'Outputs': ['DataTable', 'NoOfDefects']}, 'TaskF': {'Type': 'Task', 'Function': 'TimeFunction', 'Inputs': {'FunctionInput': '$(M2B_Workflow.FlowA.FlowB.TaskE.NoOfDefects)', 'ExecutionTime': '5'}}}}, 'FlowC': {'Type': 'Flow', 'Execution': 'Sequential', 'Activities': {'TaskG': {'Type': 'Task', 'Function': 'TimeFunction', 'Inputs': {'FunctionInput': 'TaskG_Input', 'ExecutionTime': '0'}}, 'TaskH': {'Type': 'Task', 'Function': 'TimeFunction', 'Inputs': {'FunctionInput': 'TaskH_Input', 'ExecutionTime': '0'}}}}, 'TaskI': {'Type': 'Task', 'Function': 'TimeFunction', 'Condition': '$(M2B_Workflow.FlowA.TaskC.NoOfDefects) > 10', 'Inputs': {'FunctionInput': '$(M2B_Workflow.FlowA.TaskC.NoOfDefects)', 'ExecutionTime': '5'}}}}, 'FlowD': {'Type': 'Flow', 'Execution': 'Concurrent', 'Activities': {'TaskJ': {'Type': 'Task', 'Function': 'TimeFunction', 'Condition': '$(M2B_Workflow.FlowA.FlowB.TaskE.NoOfDefects) > 0', 'Inputs': {'FunctionInput': 'TaskJ_Input', 'ExecutionTime': '1'}}, 'TaskZ': {'Type': 'Task', 'Function': 'TimeFunction', 'Inputs': {'FunctionInput': '$(M2B_Workflow.TaskA.NoOfDefects)', 'ExecutionTime': '2'}}}}}}}\n"
     ]
    }
   ],
   "source": [
    "filename='Milestone2B.yaml'\n",
    "\n",
    "with open(filename) as f:\n",
    "    data = yaml.load(f, Loader=SafeLoader)\n",
    "\n",
    "    \n",
    "print(data)\n",
    "#f = open(filename[:-5]+\"_Log.txt\", \"w\")\n",
    "\n",
    "#f.close()"
   ]
  },
  {
   "cell_type": "code",
   "execution_count": 24,
   "id": "d1e14b44",
   "metadata": {},
   "outputs": [],
   "source": [
    "returnValues={}\n",
    "\n",
    "def TimeFunction(FunctionInput,ExecutionTime):\n",
    "    print(1)\n",
    "    \n",
    "    time.sleep(int(ExecutionTime))\n",
    "    print(int(ExecutionTime))\n",
    "    return\n",
    "    \n",
    "def DataLoad(Filename):\n",
    "    print(2)\n",
    "    DataTable=pd.read_csv(Filename)\n",
    "    NoOfDefects=DataTable.shape[0]\n",
    "    \n",
    "    return DataTable, NoOfDefects\n",
    "\n",
    "\n",
    "def callfunction(name,inputs,pname):\n",
    "    if name=='TimeFunction':\n",
    "        TimeFunction(inputs[0],inputs[1])\n",
    "    elif name=='DataLoad':\n",
    "        ret1,ret2=DataLoad(inputs[0])\n",
    "        returnValues[pname+'DataTable']=ret1\n",
    "        returnValues[pname+'NoOfDefects']=ret2\n",
    "        \n",
    "        \n",
    "        \n",
    "\n",
    "    "
   ]
  },
  {
   "cell_type": "code",
   "execution_count": 178,
   "id": "9f3b30c2",
   "metadata": {},
   "outputs": [],
   "source": [
    "\n",
    "        "
   ]
  },
  {
   "cell_type": "code",
   "execution_count": 145,
   "id": "0de1420e",
   "metadata": {},
   "outputs": [],
   "source": [
    "# for i in data:\n",
    "#     top=[i]\n",
    "#     for j in data[i]['Activities']:\n",
    "#         print(j)"
   ]
  },
  {
   "cell_type": "code",
   "execution_count": null,
   "id": "c09b80a0",
   "metadata": {},
   "outputs": [],
   "source": []
  },
  {
   "cell_type": "code",
   "execution_count": 25,
   "id": "56f6d90d",
   "metadata": {},
   "outputs": [],
   "source": [
    "def runTask(task,parents):\n",
    "    print(task)\n",
    "    name=''\n",
    "    for i in parents:\n",
    "        name+=str(i)+'.'\n",
    "    \n",
    "    f.write(str(datetime.now())+';'+name[:-1]+' Entry\\n')\n",
    "    if task['Type']=='Task':\n",
    "        funs=''\n",
    "        parms=''\n",
    "        inputs=[]\n",
    "\n",
    "        for i in task['Inputs'].values():\n",
    "            if i[0]=='$':\n",
    "                while(i[2:-1] not in returnValues.keys()):\n",
    "                    time.sleep(0.25)\n",
    "                    continue\n",
    "                inputs.append(returnValues[i[2:-1]])\n",
    "                funs+=str(returnValues[i[2:-1]])+','\n",
    "            else:\n",
    "                inputs.append(i)\n",
    "                funs+=str(i)+', '\n",
    "#         if(task['Function']=='TimeFunction'):\n",
    "#             parms=str(inputs[-1])+','\n",
    "#         else:\n",
    "        parms=funs\n",
    "\n",
    "        if 'Condition' in task.keys():\n",
    "            print(task['Condition'])\n",
    "            arg1=task['Condition'].split()[0][2:-1]\n",
    "            arg2=int(task['Condition'].split()[-1])\n",
    "            op=task['Condition'].split()[1]\n",
    "\n",
    "            if(op=='>'):\n",
    "                if returnValues[arg1]>arg2:\n",
    "                    f.write(str(datetime.now())+';'+name[:-1]+' Executing ' +str(task['Function'])+' ('+parms[:-2]+')\\n')\n",
    "                    callfunction(task['Function'],inputs,name)\n",
    "                else:\n",
    "                    f.write(str(datetime.now())+';'+name[:-1]+' Skipped\\n')\n",
    "\n",
    "            elif(op=='<'):\n",
    "                if returnValues[arg1]<arg2:\n",
    "                    f.write(str(datetime.now())+';'+name[:-1]+' Executing ' +str(task['Function'])+' ('+parms[:-2]+')\\n')\n",
    "                    callfunction(task['Function'],inputs,name)\n",
    "                else:\n",
    "                    f.write(str(datetime.now())+';'+name[:-1]+' Skipped\\n')\n",
    "        else:    \n",
    "            f.write(str(datetime.now())+';'+name[:-1]+' Executing ' +str(task['Function'])+' ('+parms[:-2]+')\\n')\n",
    "            callfunction(task['Function'],inputs,name)\n",
    "        \n",
    "    else:\n",
    "        if(task['Execution']=='Sequential'):\n",
    "            Activits=task['Activities']\n",
    "            for i in Activits:\n",
    "                par=copy.deepcopy(parents)\n",
    "                par.append(i)\n",
    "                runTask(Activits[i],par)\n",
    "        else:\n",
    "            Activits=task['Activities']\n",
    "            threads=[]\n",
    "            for i in Activits:\n",
    "                par=copy.deepcopy(parents)\n",
    "                par.append(i)\n",
    "                t=threading.Thread(target=runTask, args=(Activits[i],par,))\n",
    "                threads.append(t)\n",
    "                t.start()\n",
    "            for t in threads:\n",
    "                t.join()\n",
    "    f.write(str(datetime.now())+';'+name[:-1]+' Exit\\n')\n",
    "        "
   ]
  },
  {
   "cell_type": "code",
   "execution_count": null,
   "id": "ae752b1c",
   "metadata": {},
   "outputs": [],
   "source": []
  },
  {
   "cell_type": "code",
   "execution_count": null,
   "id": "717a651e",
   "metadata": {},
   "outputs": [],
   "source": []
  },
  {
   "cell_type": "code",
   "execution_count": 26,
   "id": "680a7c8b",
   "metadata": {},
   "outputs": [
    {
     "name": "stdout",
     "output_type": "stream",
     "text": [
      "{'Type': 'Task', 'Function': 'DataLoad', 'Inputs': {'Filename': 'Milestone2B_DataInput1.csv'}, 'Outputs': ['DataTable', 'NoOfDefects']}\n",
      "2\n",
      "{'Type': 'Flow', 'Execution': 'Concurrent', 'Activities': {'TaskB': {'Type': 'Task', 'Function': 'TimeFunction', 'Condition': '$(M2B_Workflow.TaskA.NoOfDefects) > 0', 'Inputs': {'FunctionInput': 'TaskB_Input', 'ExecutionTime': '16'}}, 'TaskC': {'Type': 'Task', 'Function': 'DataLoad', 'Inputs': {'Filename': 'Milestone2B_DataInput1.csv'}, 'Outputs': ['DataTable', 'NoOfDefects']}, 'TaskD': {'Type': 'Task', 'Function': 'TimeFunction', 'Condition': '$(M2B_Workflow.TaskA.NoOfDefects) < 10', 'Inputs': {'FunctionInput': 'TaskD_Input', 'ExecutionTime': '5'}}, 'FlowB': {'Type': 'Flow', 'Execution': 'Sequential', 'Activities': {'TaskE': {'Type': 'Task', 'Function': 'DataLoad', 'Inputs': {'Filename': 'Milestone2B_DataInput2.csv'}, 'Outputs': ['DataTable', 'NoOfDefects']}, 'TaskF': {'Type': 'Task', 'Function': 'TimeFunction', 'Inputs': {'FunctionInput': '$(M2B_Workflow.FlowA.FlowB.TaskE.NoOfDefects)', 'ExecutionTime': '5'}}}}, 'FlowC': {'Type': 'Flow', 'Execution': 'Sequential', 'Activities': {'TaskG': {'Type': 'Task', 'Function': 'TimeFunction', 'Inputs': {'FunctionInput': 'TaskG_Input', 'ExecutionTime': '0'}}, 'TaskH': {'Type': 'Task', 'Function': 'TimeFunction', 'Inputs': {'FunctionInput': 'TaskH_Input', 'ExecutionTime': '0'}}}}, 'TaskI': {'Type': 'Task', 'Function': 'TimeFunction', 'Condition': '$(M2B_Workflow.FlowA.TaskC.NoOfDefects) > 10', 'Inputs': {'FunctionInput': '$(M2B_Workflow.FlowA.TaskC.NoOfDefects)', 'ExecutionTime': '5'}}}}\n",
      "{'Type': 'Task', 'Function': 'TimeFunction', 'Condition': '$(M2B_Workflow.TaskA.NoOfDefects) > 0', 'Inputs': {'FunctionInput': 'TaskB_Input', 'ExecutionTime': '16'}}\n",
      "$(M2B_Workflow.TaskA.NoOfDefects) > 0\n",
      "1\n",
      "{'Type': 'Task', 'Function': 'DataLoad', 'Inputs': {'Filename': 'Milestone2B_DataInput1.csv'}, 'Outputs': ['DataTable', 'NoOfDefects']}{'Type': 'Task', 'Function': 'TimeFunction', 'Condition': '$(M2B_Workflow.TaskA.NoOfDefects) < 10', 'Inputs': {'FunctionInput': 'TaskD_Input', 'ExecutionTime': '5'}}\n",
      "$(M2B_Workflow.TaskA.NoOfDefects) < 10\n",
      "\n",
      "2\n",
      "{'Type': 'Flow', 'Execution': 'Sequential', 'Activities': {'TaskE': {'Type': 'Task', 'Function': 'DataLoad', 'Inputs': {'Filename': 'Milestone2B_DataInput2.csv'}, 'Outputs': ['DataTable', 'NoOfDefects']}, 'TaskF': {'Type': 'Task', 'Function': 'TimeFunction', 'Inputs': {'FunctionInput': '$(M2B_Workflow.FlowA.FlowB.TaskE.NoOfDefects)', 'ExecutionTime': '5'}}}}\n",
      "{'Type': 'Flow', 'Execution': 'Sequential', 'Activities': {'TaskG': {'Type': 'Task', 'Function': 'TimeFunction', 'Inputs': {'FunctionInput': 'TaskG_Input', 'ExecutionTime': '0'}}, 'TaskH': {'Type': 'Task', 'Function': 'TimeFunction', 'Inputs': {'FunctionInput': 'TaskH_Input', 'ExecutionTime': '0'}}}}\n",
      "{'Type': 'Task', 'Function': 'TimeFunction', 'Inputs': {'FunctionInput': 'TaskG_Input', 'ExecutionTime': '0'}}\n",
      "1\n",
      "0\n",
      "{'Type': 'Task', 'Function': 'TimeFunction', 'Inputs': {'FunctionInput': 'TaskH_Input', 'ExecutionTime': '0'}}\n",
      "1\n",
      "{'Type': 'Task', 'Function': 'DataLoad', 'Inputs': {'Filename': 'Milestone2B_DataInput2.csv'}, 'Outputs': ['DataTable', 'NoOfDefects']}\n",
      "2\n",
      "0\n",
      "{'Type': 'Task', 'Function': 'TimeFunction', 'Condition': '$(M2B_Workflow.FlowA.TaskC.NoOfDefects) > 10', 'Inputs': {'FunctionInput': '$(M2B_Workflow.FlowA.TaskC.NoOfDefects)', 'ExecutionTime': '5'}}\n",
      "$(M2B_Workflow.FlowA.TaskC.NoOfDefects) > 10\n",
      "1\n",
      "{'Type': 'Task', 'Function': 'TimeFunction', 'Inputs': {'FunctionInput': '$(M2B_Workflow.FlowA.FlowB.TaskE.NoOfDefects)', 'ExecutionTime': '5'}}\n",
      "1\n",
      "5\n",
      "5\n",
      "16\n",
      "{'Type': 'Flow', 'Execution': 'Concurrent', 'Activities': {'TaskJ': {'Type': 'Task', 'Function': 'TimeFunction', 'Condition': '$(M2B_Workflow.FlowA.FlowB.TaskE.NoOfDefects) > 0', 'Inputs': {'FunctionInput': 'TaskJ_Input', 'ExecutionTime': '1'}}, 'TaskZ': {'Type': 'Task', 'Function': 'TimeFunction', 'Inputs': {'FunctionInput': '$(M2B_Workflow.TaskA.NoOfDefects)', 'ExecutionTime': '2'}}}}\n",
      "{'Type': 'Task', 'Function': 'TimeFunction', 'Condition': '$(M2B_Workflow.FlowA.FlowB.TaskE.NoOfDefects) > 0', 'Inputs': {'FunctionInput': 'TaskJ_Input', 'ExecutionTime': '1'}}\n",
      "$(M2B_Workflow.FlowA.FlowB.TaskE.NoOfDefects) > 0\n",
      "1\n",
      "{'Type': 'Task', 'Function': 'TimeFunction', 'Inputs': {'FunctionInput': '$(M2B_Workflow.TaskA.NoOfDefects)', 'ExecutionTime': '2'}}\n",
      "1\n",
      "1\n",
      "2\n"
     ]
    }
   ],
   "source": [
    "baseTask=list(data.keys())[0]\n",
    "\n",
    "f = open(filename[:-5]+\"_Log.txt\", \"w\")\n",
    "f.write(str(datetime.now())+';'+baseTask+' Entry\\n')\n",
    "\n",
    "baseActivities=data[baseTask]['Activities']\n",
    "#print(baseActivities)\n",
    "for i in baseActivities:\n",
    "    runTask(baseActivities[i],[baseTask,i])\n",
    "\n",
    "f.write(str(datetime.now())+';'+baseTask+' Exit')\n",
    "f.close()"
   ]
  },
  {
   "cell_type": "code",
   "execution_count": 67,
   "id": "693a27e5",
   "metadata": {},
   "outputs": [],
   "source": []
  },
  {
   "cell_type": "code",
   "execution_count": 133,
   "id": "bccb4bc2",
   "metadata": {},
   "outputs": [
    {
     "data": {
      "text/plain": [
       "['$(MyTask1.NoOfDefects)', '>=', '6']"
      ]
     },
     "execution_count": 133,
     "metadata": {},
     "output_type": "execute_result"
    }
   ],
   "source": [
    "('$(MyTask1.NoOfDefects) >= 6').split()"
   ]
  },
  {
   "cell_type": "code",
   "execution_count": null,
   "id": "e7d6faf2",
   "metadata": {},
   "outputs": [],
   "source": []
  }
 ],
 "metadata": {
  "kernelspec": {
   "display_name": "Python 3",
   "language": "python",
   "name": "python3"
  },
  "language_info": {
   "codemirror_mode": {
    "name": "ipython",
    "version": 3
   },
   "file_extension": ".py",
   "mimetype": "text/x-python",
   "name": "python",
   "nbconvert_exporter": "python",
   "pygments_lexer": "ipython3",
   "version": "3.7.1"
  }
 },
 "nbformat": 4,
 "nbformat_minor": 5
}

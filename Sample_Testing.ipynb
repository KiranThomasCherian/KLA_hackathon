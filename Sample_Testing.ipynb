{
 "cells": [
  {
   "cell_type": "code",
   "execution_count": 69,
   "id": "25b3a2c4",
   "metadata": {},
   "outputs": [],
   "source": [
    "import yaml\n",
    "from yaml.loader import SafeLoader\n",
    "from datetime import datetime\n",
    "import time\n",
    "import pandas as pd\n"
   ]
  },
  {
   "cell_type": "code",
   "execution_count": 70,
   "id": "c569184c",
   "metadata": {},
   "outputs": [
    {
     "name": "stdout",
     "output_type": "stream",
     "text": [
      "{'M1SampleWorkFlow': {'Type': 'Flow', 'Execution': 'Sequential', 'Activities': {'M1SampleTask1': {'Type': 'Task', 'Function': 'TimeFunction', 'Inputs': {'FunctionInput': 'Task1_Input', 'ExecutionTime': '1'}}, 'M1SampleTask2': {'Type': 'Task', 'Function': 'TimeFunction', 'Inputs': {'FunctionInput': 'Task2_Input', 'ExecutionTime': '0'}}, 'M1SampleSubFlow': {'Type': 'Flow', 'Execution': 'Concurrent', 'Activities': {'M1SampleSubTask1': {'Type': 'Task', 'Function': 'TimeFunction', 'Inputs': {'FunctionInput': 'SubTask1_Input', 'ExecutionTime': '1'}}, 'M1SampleSubTask2': {'Type': 'Task', 'Function': 'TimeFunction', 'Inputs': {'FunctionInput': 'SubTask2_Input', 'ExecutionTime': '2'}}}}}}}\n"
     ]
    }
   ],
   "source": [
    "filename='Milestone1_Example.yaml'\n",
    "\n",
    "with open(filename) as f:\n",
    "    data = yaml.load(f, Loader=SafeLoader)\n",
    "\n",
    "    \n",
    "print(data)\n",
    "#f = open(filename[:-5]+\"_Log.txt\", \"w\")\n",
    "\n",
    "#f.close()"
   ]
  },
  {
   "cell_type": "code",
   "execution_count": 71,
   "id": "e35389b8",
   "metadata": {},
   "outputs": [],
   "source": [
    "def TimeFunction(FunctionInput,ExecutionTime):\n",
    "    print(1)\n",
    "    time.sleep(int(ExecutionTime))\n",
    "    print(int(ExecutionTime))\n",
    "    return\n",
    "    \n",
    "def DataLoad(Filename):\n",
    "    print(2)\n",
    "    DataTable=pd.read_csv(Filename)\n",
    "    NoOfDefects=DataTable.shape[0]-1\n",
    "    \n",
    "    return DataTable, NoOfDefects\n",
    "\n",
    "\n",
    "def callfunction(name,inputs):\n",
    "    if name=='TimeFunction':\n",
    "        TimeFunction(inputs[0],inputs[1])\n",
    "    elif name=='DataLoad':\n",
    "        DataLoad(inputs[0])\n",
    "        \n",
    "        \n",
    "\n",
    "    "
   ]
  },
  {
   "cell_type": "code",
   "execution_count": 83,
   "id": "c3e6e04b",
   "metadata": {},
   "outputs": [],
   "source": [
    "def runTask(task,parents):\n",
    "    print(task)\n",
    "    if task['Type']=='Task':\n",
    "        name=''\n",
    "        funs=''\n",
    "        parms=''\n",
    "        inputs=[]\n",
    "        for i in parents:\n",
    "            name+=str(i)+'.'\n",
    "        for i in task['Inputs'].values():\n",
    "            inputs.append(i)\n",
    "            funs+=str(i)+','\n",
    "        if(task['Function']=='TimeFunction'):\n",
    "            parms=str(inputs[-1])+','\n",
    "        else:\n",
    "            parms=funs\n",
    "                \n",
    "        f.write(str(datetime.now())+';'+name[:-1]+'Entry\\n')\n",
    "        f.write(str(datetime.now())+';'+name[:-1]+'Executing ' +str(task['Function'])+' ('+parms[:-1]+')\\n')\n",
    "        callfunction(task['Function'],inputs)\n",
    "        f.write(str(datetime.now())+';'+name[:-1]+'Exit\\n')"
   ]
  },
  {
   "cell_type": "code",
   "execution_count": 25,
   "id": "3728789a",
   "metadata": {},
   "outputs": [
    {
     "name": "stdout",
     "output_type": "stream",
     "text": [
      "M1SampleTask1\n",
      "M1SampleTask2\n",
      "M1SampleSubFlow\n"
     ]
    }
   ],
   "source": [
    "# for i in data:\n",
    "#     top=[i]\n",
    "#     for j in data[i]['Activities']:\n",
    "#         print(j)"
   ]
  },
  {
   "cell_type": "code",
   "execution_count": 84,
   "id": "546edb3f",
   "metadata": {},
   "outputs": [
    {
     "name": "stdout",
     "output_type": "stream",
     "text": [
      "{'Type': 'Task', 'Function': 'TimeFunction', 'Inputs': {'FunctionInput': 'Task1_Input', 'ExecutionTime': '1'}}\n",
      "1\n",
      "1\n",
      "{'Type': 'Task', 'Function': 'TimeFunction', 'Inputs': {'FunctionInput': 'Task2_Input', 'ExecutionTime': '0'}}\n",
      "1\n",
      "0\n",
      "{'Type': 'Flow', 'Execution': 'Concurrent', 'Activities': {'M1SampleSubTask1': {'Type': 'Task', 'Function': 'TimeFunction', 'Inputs': {'FunctionInput': 'SubTask1_Input', 'ExecutionTime': '1'}}, 'M1SampleSubTask2': {'Type': 'Task', 'Function': 'TimeFunction', 'Inputs': {'FunctionInput': 'SubTask2_Input', 'ExecutionTime': '2'}}}}\n"
     ]
    }
   ],
   "source": [
    "baseTask=list(data.keys())[0]\n",
    "\n",
    "f = open(filename[:-5]+\"_Log.txt\", \"w\")\n",
    "f.write(str(datetime.now())+';'+baseTask+' Entry\\n')\n",
    "\n",
    "baseActivities=data[baseTask]['Activities']\n",
    "#print(baseActivities)\n",
    "for i in baseActivities:\n",
    "    runTask(baseActivities[i],[baseTask,i])\n",
    "\n",
    "f.write(str(datetime.now())+';'+baseTask+' Exit')\n",
    "f.close()"
   ]
  },
  {
   "cell_type": "code",
   "execution_count": 67,
   "id": "43c9fc75",
   "metadata": {},
   "outputs": [],
   "source": [
    "f.close()"
   ]
  },
  {
   "cell_type": "code",
   "execution_count": null,
   "id": "729a71f8",
   "metadata": {},
   "outputs": [],
   "source": []
  }
 ],
 "metadata": {
  "kernelspec": {
   "display_name": "Python 3",
   "language": "python",
   "name": "python3"
  },
  "language_info": {
   "codemirror_mode": {
    "name": "ipython",
    "version": 3
   },
   "file_extension": ".py",
   "mimetype": "text/x-python",
   "name": "python",
   "nbconvert_exporter": "python",
   "pygments_lexer": "ipython3",
   "version": "3.7.1"
  }
 },
 "nbformat": 4,
 "nbformat_minor": 5
}

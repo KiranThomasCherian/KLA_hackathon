{
 "cells": [
  {
   "cell_type": "code",
   "execution_count": 104,
   "id": "d03af534",
   "metadata": {},
   "outputs": [],
   "source": [
    "import yaml\n",
    "from yaml.loader import SafeLoader\n",
    "from datetime import datetime\n",
    "import time\n",
    "import pandas as pd\n",
    "import copy\n",
    "import threading"
   ]
  },
  {
   "cell_type": "code",
   "execution_count": 131,
   "id": "f1080f7b",
   "metadata": {},
   "outputs": [
    {
     "name": "stdout",
     "output_type": "stream",
     "text": [
      "{'M1B_Workflow': {'Type': 'Flow', 'Execution': 'Sequential', 'Activities': {'TaskA': {'Type': 'Task', 'Function': 'TimeFunction', 'Inputs': {'FunctionInput': 'TaskA_Input', 'ExecutionTime': '1'}}, 'FlowA': {'Type': 'Flow', 'Execution': 'Concurrent', 'Activities': {'TaskB': {'Type': 'Task', 'Function': 'TimeFunction', 'Inputs': {'FunctionInput': 'TaskB_Input', 'ExecutionTime': '14'}}, 'TaskC': {'Type': 'Task', 'Function': 'TimeFunction', 'Inputs': {'FunctionInput': 'TaskC_Input', 'ExecutionTime': '5'}}, 'TaskD': {'Type': 'Task', 'Function': 'TimeFunction', 'Inputs': {'FunctionInput': 'TaskD_Input', 'ExecutionTime': '5'}}, 'FlowB': {'Type': 'Flow', 'Execution': 'Sequential', 'Activities': {'TaskE': {'Type': 'Task', 'Function': 'TimeFunction', 'Inputs': {'FunctionInput': 'TaskE_Input', 'ExecutionTime': '5'}}, 'TaskF': {'Type': 'Task', 'Function': 'TimeFunction', 'Inputs': {'FunctionInput': 'TaskF_Input', 'ExecutionTime': '1'}}}}, 'FlowC': {'Type': 'Flow', 'Execution': 'Sequential', 'Activities': {'TaskG': {'Type': 'Task', 'Function': 'TimeFunction', 'Inputs': {'FunctionInput': 'TaskG_Input', 'ExecutionTime': '2'}}, 'TaskH': {'Type': 'Task', 'Function': 'TimeFunction', 'Inputs': {'FunctionInput': 'TaskH_Input', 'ExecutionTime': '2'}}}}, 'TaskI': {'Type': 'Task', 'Function': 'TimeFunction', 'Inputs': {'FunctionInput': 'TaskI_Input', 'ExecutionTime': '5'}}}}, 'TaskZ': {'Type': 'Task', 'Function': 'TimeFunction', 'Inputs': {'FunctionInput': 'TaskZ_Input', 'ExecutionTime': '5'}}}}}\n"
     ]
    }
   ],
   "source": [
    "filename='Milestone1B.yaml'\n",
    "\n",
    "with open(filename) as f:\n",
    "    data = yaml.load(f, Loader=SafeLoader)\n",
    "\n",
    "    \n",
    "print(data)\n",
    "#f = open(filename[:-5]+\"_Log.txt\", \"w\")\n",
    "\n",
    "#f.close()"
   ]
  },
  {
   "cell_type": "code",
   "execution_count": 96,
   "id": "d9f2c0e4",
   "metadata": {},
   "outputs": [],
   "source": [
    "def TimeFunction(FunctionInput,ExecutionTime):\n",
    "    print(1)\n",
    "    time.sleep(int(ExecutionTime))\n",
    "    print(int(ExecutionTime))\n",
    "    return\n",
    "    \n",
    "def DataLoad(Filename):\n",
    "    print(2)\n",
    "    DataTable=pd.read_csv(Filename)\n",
    "    NoOfDefects=DataTable.shape[0]-1\n",
    "    \n",
    "    return DataTable, NoOfDefects\n",
    "\n",
    "\n",
    "def callfunction(name,inputs):\n",
    "    if name=='TimeFunction':\n",
    "        TimeFunction(inputs[0],inputs[1])\n",
    "    elif name=='DataLoad':\n",
    "        DataLoad(inputs[0])\n",
    "        \n",
    "        \n",
    "\n",
    "    "
   ]
  },
  {
   "cell_type": "code",
   "execution_count": 125,
   "id": "17bd0acb",
   "metadata": {},
   "outputs": [],
   "source": [
    "def runTask(task,parents):\n",
    "    print(task)\n",
    "    name=''\n",
    "    for i in parents:\n",
    "        name+=str(i)+'.'\n",
    "    \n",
    "    f.write(str(datetime.now())+';'+name[:-1]+' Entry\\n')\n",
    "    if task['Type']=='Task':\n",
    "        funs=''\n",
    "        parms=''\n",
    "        inputs=[]\n",
    "\n",
    "        for i in task['Inputs'].values():\n",
    "            inputs.append(i)\n",
    "            funs+=str(i)+', '\n",
    "#         if(task['Function']=='TimeFunction'):\n",
    "#             parms=str(inputs[-1])+','\n",
    "#         else:\n",
    "        parms=funs\n",
    "                \n",
    "        \n",
    "        f.write(str(datetime.now())+';'+name[:-1]+' Executing ' +str(task['Function'])+' ('+parms[:-2]+')\\n')\n",
    "        callfunction(task['Function'],inputs)\n",
    "        \n",
    "    else:\n",
    "        if(task['Execution']=='Sequential'):\n",
    "            Activits=task['Activities']\n",
    "            for i in Activits:\n",
    "                par=copy.deepcopy(parents)\n",
    "                par.append(i)\n",
    "                runTask(Activits[i],par)\n",
    "        else:\n",
    "            Activits=task['Activities']\n",
    "            threads=[]\n",
    "            for i in Activits:\n",
    "                par=copy.deepcopy(parents)\n",
    "                par.append(i)\n",
    "                t=threading.Thread(target=runTask, args=(Activits[i],par,))\n",
    "                threads.append(t)\n",
    "                t.start()\n",
    "            for t in threads:\n",
    "                t.join()\n",
    "    f.write(str(datetime.now())+';'+name[:-1]+' Exit\\n')\n",
    "        "
   ]
  },
  {
   "cell_type": "code",
   "execution_count": 98,
   "id": "7eae2684",
   "metadata": {},
   "outputs": [],
   "source": [
    "# for i in data:\n",
    "#     top=[i]\n",
    "#     for j in data[i]['Activities']:\n",
    "#         print(j)"
   ]
  },
  {
   "cell_type": "code",
   "execution_count": 132,
   "id": "06156bb6",
   "metadata": {},
   "outputs": [
    {
     "name": "stdout",
     "output_type": "stream",
     "text": [
      "{'Type': 'Task', 'Function': 'TimeFunction', 'Inputs': {'FunctionInput': 'TaskA_Input', 'ExecutionTime': '1'}}\n",
      "1\n",
      "1\n",
      "{'Type': 'Flow', 'Execution': 'Concurrent', 'Activities': {'TaskB': {'Type': 'Task', 'Function': 'TimeFunction', 'Inputs': {'FunctionInput': 'TaskB_Input', 'ExecutionTime': '14'}}, 'TaskC': {'Type': 'Task', 'Function': 'TimeFunction', 'Inputs': {'FunctionInput': 'TaskC_Input', 'ExecutionTime': '5'}}, 'TaskD': {'Type': 'Task', 'Function': 'TimeFunction', 'Inputs': {'FunctionInput': 'TaskD_Input', 'ExecutionTime': '5'}}, 'FlowB': {'Type': 'Flow', 'Execution': 'Sequential', 'Activities': {'TaskE': {'Type': 'Task', 'Function': 'TimeFunction', 'Inputs': {'FunctionInput': 'TaskE_Input', 'ExecutionTime': '5'}}, 'TaskF': {'Type': 'Task', 'Function': 'TimeFunction', 'Inputs': {'FunctionInput': 'TaskF_Input', 'ExecutionTime': '1'}}}}, 'FlowC': {'Type': 'Flow', 'Execution': 'Sequential', 'Activities': {'TaskG': {'Type': 'Task', 'Function': 'TimeFunction', 'Inputs': {'FunctionInput': 'TaskG_Input', 'ExecutionTime': '2'}}, 'TaskH': {'Type': 'Task', 'Function': 'TimeFunction', 'Inputs': {'FunctionInput': 'TaskH_Input', 'ExecutionTime': '2'}}}}, 'TaskI': {'Type': 'Task', 'Function': 'TimeFunction', 'Inputs': {'FunctionInput': 'TaskI_Input', 'ExecutionTime': '5'}}}}\n",
      "{'Type': 'Task', 'Function': 'TimeFunction', 'Inputs': {'FunctionInput': 'TaskB_Input', 'ExecutionTime': '14'}}\n",
      "1\n",
      "{'Type': 'Task', 'Function': 'TimeFunction', 'Inputs': {'FunctionInput': 'TaskC_Input', 'ExecutionTime': '5'}}\n",
      "1\n",
      "{'Type': 'Task', 'Function': 'TimeFunction', 'Inputs': {'FunctionInput': 'TaskD_Input', 'ExecutionTime': '5'}}\n",
      "1\n",
      "{'Type': 'Flow', 'Execution': 'Sequential', 'Activities': {'TaskE': {'Type': 'Task', 'Function': 'TimeFunction', 'Inputs': {'FunctionInput': 'TaskE_Input', 'ExecutionTime': '5'}}, 'TaskF': {'Type': 'Task', 'Function': 'TimeFunction', 'Inputs': {'FunctionInput': 'TaskF_Input', 'ExecutionTime': '1'}}}}\n",
      "{'Type': 'Task', 'Function': 'TimeFunction', 'Inputs': {'FunctionInput': 'TaskE_Input', 'ExecutionTime': '5'}}\n",
      "1\n",
      "{'Type': 'Flow', 'Execution': 'Sequential', 'Activities': {'TaskG': {'Type': 'Task', 'Function': 'TimeFunction', 'Inputs': {'FunctionInput': 'TaskG_Input', 'ExecutionTime': '2'}}, 'TaskH': {'Type': 'Task', 'Function': 'TimeFunction', 'Inputs': {'FunctionInput': 'TaskH_Input', 'ExecutionTime': '2'}}}}\n",
      "{'Type': 'Task', 'Function': 'TimeFunction', 'Inputs': {'FunctionInput': 'TaskG_Input', 'ExecutionTime': '2'}}\n",
      "1\n",
      "{'Type': 'Task', 'Function': 'TimeFunction', 'Inputs': {'FunctionInput': 'TaskI_Input', 'ExecutionTime': '5'}}\n",
      "1\n",
      "2\n",
      "{'Type': 'Task', 'Function': 'TimeFunction', 'Inputs': {'FunctionInput': 'TaskH_Input', 'ExecutionTime': '2'}}\n",
      "1\n",
      "2\n",
      "55\n",
      "\n",
      "5\n",
      "{'Type': 'Task', 'Function': 'TimeFunction', 'Inputs': {'FunctionInput': 'TaskF_Input', 'ExecutionTime': '1'}}\n",
      "1\n",
      "5\n",
      "1\n",
      "14\n",
      "{'Type': 'Task', 'Function': 'TimeFunction', 'Inputs': {'FunctionInput': 'TaskZ_Input', 'ExecutionTime': '5'}}\n",
      "1\n",
      "5\n"
     ]
    }
   ],
   "source": [
    "baseTask=list(data.keys())[0]\n",
    "\n",
    "f = open(filename[:-5]+\"_Log.txt\", \"w\")\n",
    "f.write(str(datetime.now())+';'+baseTask+' Entry\\n')\n",
    "\n",
    "baseActivities=data[baseTask]['Activities']\n",
    "#print(baseActivities)\n",
    "for i in baseActivities:\n",
    "    runTask(baseActivities[i],[baseTask,i])\n",
    "\n",
    "f.write(str(datetime.now())+';'+baseTask+' Exit')\n",
    "f.close()"
   ]
  },
  {
   "cell_type": "code",
   "execution_count": 67,
   "id": "5595cbe5",
   "metadata": {},
   "outputs": [],
   "source": []
  },
  {
   "cell_type": "code",
   "execution_count": null,
   "id": "4bc26f18",
   "metadata": {},
   "outputs": [],
   "source": []
  }
 ],
 "metadata": {
  "kernelspec": {
   "display_name": "Python 3",
   "language": "python",
   "name": "python3"
  },
  "language_info": {
   "codemirror_mode": {
    "name": "ipython",
    "version": 3
   },
   "file_extension": ".py",
   "mimetype": "text/x-python",
   "name": "python",
   "nbconvert_exporter": "python",
   "pygments_lexer": "ipython3",
   "version": "3.7.1"
  }
 },
 "nbformat": 4,
 "nbformat_minor": 5
}
